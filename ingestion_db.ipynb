{
 "cells": [
  {
   "cell_type": "code",
   "execution_count": 2,
   "id": "b5843fae-35bb-4c09-892c-01f9a6f13eb4",
   "metadata": {},
   "outputs": [],
   "source": [
    "import pandas as pd\n",
    "import os\n",
    "from sqlalchemy import create_engine"
   ]
  },
  {
   "cell_type": "code",
   "execution_count": 3,
   "id": "4c48f2f4-a749-42af-b131-c13f0704df28",
   "metadata": {},
   "outputs": [],
   "source": [
    "engine = create_engine('sqlite:///inventory.db')"
   ]
  },
  {
   "cell_type": "code",
   "execution_count": null,
   "id": "a8ef5e22-066c-4adc-8b95-397e37784660",
   "metadata": {},
   "outputs": [
    {
     "name": "stdout",
     "output_type": "stream",
     "text": [
      "(206529, 9)\n",
      "(224489, 9)\n",
      "(2372474, 16)\n",
      "(12261, 9)\n"
     ]
    }
   ],
   "source": [
    "for file in os.listdir('data'):\n",
    "    if '.csv' in file:\n",
    "        df = pd.read_csv('data/'+file)\n",
    "        print(df.shape)\n",
    "        ingest_db(df, file[:-4], engine)"
   ]
  },
  {
   "cell_type": "code",
   "execution_count": 7,
   "id": "96350155-662f-4ba8-82d5-52defc4ad23d",
   "metadata": {},
   "outputs": [],
   "source": [
    "def ingest_db(df, table_name, engine):\n",
    "    df.to_sql(table_name, con = engine, if_exists = 'replace', index = False)"
   ]
  },
  {
   "cell_type": "code",
   "execution_count": null,
   "id": "e758eb6e-41ed-433c-ba30-3fbf18939e98",
   "metadata": {},
   "outputs": [],
   "source": []
  }
 ],
 "metadata": {
  "kernelspec": {
   "display_name": "Python 3 (ipykernel)",
   "language": "python",
   "name": "python3"
  },
  "language_info": {
   "codemirror_mode": {
    "name": "ipython",
    "version": 3
   },
   "file_extension": ".py",
   "mimetype": "text/x-python",
   "name": "python",
   "nbconvert_exporter": "python",
   "pygments_lexer": "ipython3",
   "version": "3.13.7"
  }
 },
 "nbformat": 4,
 "nbformat_minor": 5
}
